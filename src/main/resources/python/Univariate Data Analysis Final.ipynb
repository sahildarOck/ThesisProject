{
 "cells": [
  {
   "cell_type": "code",
   "execution_count": 43,
   "id": "4f1272df",
   "metadata": {},
   "outputs": [],
   "source": [
    "import pandas as pd\n",
    "import numpy as np\n",
    "import seaborn as sns\n",
    "import statsmodels.api as sm\n",
    "from sklearn.model_selection import train_test_split\n",
    "from statsmodels.formula.api import logit\n",
    "from sklearn.linear_model import LogisticRegression"
   ]
  },
  {
   "cell_type": "code",
   "execution_count": 2,
   "id": "2f0efa51",
   "metadata": {},
   "outputs": [],
   "source": [
    "df = pd.read_csv('./Documents/Concatenated_Data_For_Study.csv')"
   ]
  },
  {
   "cell_type": "code",
   "execution_count": 36,
   "id": "89b2c93c",
   "metadata": {},
   "outputs": [
    {
     "name": "stdout",
     "output_type": "stream",
     "text": [
      "Optimization terminated successfully.\n",
      "         Current function value: 0.340473\n",
      "         Iterations 7\n",
      "                           Logit Regression Results                           \n",
      "==============================================================================\n",
      "Dep. Variable:           is_increased   No. Observations:                10814\n",
      "Model:                          Logit   Df Residuals:                    10812\n",
      "Method:                           MLE   Df Model:                            1\n",
      "Date:                Thu, 24 Nov 2022   Pseudo R-squ.:                0.007687\n",
      "Time:                        22:03:39   Log-Likelihood:                -3681.9\n",
      "converged:                       True   LL-Null:                       -3710.4\n",
      "Covariance Type:            nonrobust   LLR p-value:                 4.261e-14\n",
      "=========================================================================================\n",
      "                            coef    std err          z      P>|z|      [0.025      0.975]\n",
      "-----------------------------------------------------------------------------------------\n",
      "Intercept                -2.5705      0.074    -34.507      0.000      -2.716      -2.424\n",
      "at_least_one_cr_smell     0.5873      0.082      7.168      0.000       0.427       0.748\n",
      "=========================================================================================\n"
     ]
    }
   ],
   "source": [
    "formula = ('is_increased ~ at_least_one_cr_smell')\n",
    "model = logit(formula = formula, data = df).fit()\n",
    "print(model.summary())"
   ]
  },
  {
   "cell_type": "code",
   "execution_count": 37,
   "id": "5c2ccecb",
   "metadata": {},
   "outputs": [
    {
     "name": "stdout",
     "output_type": "stream",
     "text": [
      "Intercept                0.076498\n",
      "at_least_one_cr_smell    1.799124\n",
      "dtype: float64\n"
     ]
    }
   ],
   "source": [
    "# Odds ratio\n",
    "print(np.exp(model.params))"
   ]
  },
  {
   "cell_type": "code",
   "execution_count": 38,
   "id": "1f13a80d",
   "metadata": {},
   "outputs": [
    {
     "name": "stdout",
     "output_type": "stream",
     "text": [
      "        Logit Marginal Effects       \n",
      "=====================================\n",
      "Dep. Variable:           is_increased\n",
      "Method:                          dydx\n",
      "At:                           overall\n",
      "=========================================================================================\n",
      "                           dy/dx    std err          z      P>|z|      [0.025      0.975]\n",
      "-----------------------------------------------------------------------------------------\n",
      "at_least_one_cr_smell     0.0565      0.008      7.122      0.000       0.041       0.072\n",
      "=========================================================================================\n"
     ]
    }
   ],
   "source": [
    "# Marginal effects computation\n",
    "AME = model.get_margeff(at = 'overall', method = 'dydx')\n",
    "print(AME.summary())"
   ]
  },
  {
   "cell_type": "code",
   "execution_count": 33,
   "id": "33be8c1e",
   "metadata": {},
   "outputs": [
    {
     "data": {
      "text/plain": [
       "<AxesSubplot: xlabel='at_least_one_cr_smell', ylabel='is_increased'>"
      ]
     },
     "execution_count": 33,
     "metadata": {},
     "output_type": "execute_result"
    },
    {
     "data": {
      "image/png": "[encoded data removed]",
      "text/plain": [
       "<Figure size 640x480 with 1 Axes>"
      ]
     },
     "metadata": {},
     "output_type": "display_data"
    }
   ],
   "source": [
    "sns.regplot(x = \"at_least_one_cr_smell\", y = \"is_increased\", y_jitter = 0.03, data = df, logistic = True, ci = None)"
   ]
  },
  {
   "cell_type": "code",
   "execution_count": 45,
   "id": "78f27840",
   "metadata": {},
   "outputs": [
    {
     "name": "stdout",
     "output_type": "stream",
     "text": [
      "[[0.58595655]] [-0.4620017]\n"
     ]
    }
   ],
   "source": [
    "# Weighted model\n",
    "\n",
    "feature_cols = ['at_least_one_cr_smell']\n",
    "X = df[feature_cols]\n",
    "y = df.is_increased\n",
    "\n",
    "logreg = LogisticRegression(class_weight = 'balanced')\n",
    "\n",
    "# fit the model with data\n",
    "clf = logreg.fit(X, y)\n",
    "\n",
    "print(clf.coef_, clf.intercept_)"
   ]
  },
  {
   "cell_type": "code",
   "execution_count": null,
   "id": "c3507b4e",
   "metadata": {},
   "outputs": [],
   "source": []
  }
 ],
 "metadata": {
  "kernelspec": {
   "display_name": "Python 3 (ipykernel)",
   "language": "python",
   "name": "python3"
  },
  "language_info": {
   "codemirror_mode": {
    "name": "ipython",
    "version": 3
   },
   "file_extension": ".py",
   "mimetype": "text/x-python",
   "name": "python",
   "nbconvert_exporter": "python",
   "pygments_lexer": "ipython3",
   "version": "3.9.6"
  }
 },
 "nbformat": 4,
 "nbformat_minor": 5
}
